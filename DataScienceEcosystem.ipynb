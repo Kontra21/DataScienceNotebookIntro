{
 "cells": [
  {
   "cell_type": "markdown",
   "id": "561f647a-08bd-4809-addd-a7cd8cd5fb94",
   "metadata": {},
   "source": [
    "# Data Science Tools and Ecosystem"
   ]
  },
  {
   "cell_type": "markdown",
   "id": "e885c9a5-5e9d-4477-9f92-ce71abcea13c",
   "metadata": {},
   "source": [
    "In this notebook, Data Science Tools and Exosystem are summarized."
   ]
  },
  {
   "cell_type": "markdown",
   "id": "8c62f52d-20a7-4df9-b112-6dc4e02baeed",
   "metadata": {},
   "source": [
    "**Objectives:**\n",
    "- List popular languages for Data Science\n",
    "- List popular Data Science Tools\n",
    "- Show basic arithmetic"
   ]
  },
  {
   "cell_type": "markdown",
   "id": "07c9a860-8e9e-44c1-bb5c-6511b2bb15fc",
   "metadata": {},
   "source": [
    "Some of the popular languages that Data Scientists use are:\n",
    "1. Python\n",
    "2. R\n",
    "3. SQL"
   ]
  },
  {
   "cell_type": "markdown",
   "id": "7e39d4f0-0dad-4310-b7ad-84820b740afd",
   "metadata": {},
   "source": [
    "| Data Science Tools |\n",
    "| --- |\n",
    "| Jupyter |\n",
    "| Apache Spark |\n",
    "| MongoDB |"
   ]
  },
  {
   "cell_type": "markdown",
   "id": "b5498332-bcce-4609-9735-a0636f9fcf30",
   "metadata": {},
   "source": [
    "### Below are a few examples of evaluating arithmetic expressions in Python"
   ]
  },
  {
   "cell_type": "code",
   "execution_count": 2,
   "id": "b9a82aa4-7225-4145-99b2-af090b399a04",
   "metadata": {},
   "outputs": [
    {
     "data": {
      "text/plain": [
       "17"
      ]
     },
     "execution_count": 2,
     "metadata": {},
     "output_type": "execute_result"
    }
   ],
   "source": [
    "# This is a simple arithmetic expression to multiply then add integers\n",
    "(3*4)+5"
   ]
  },
  {
   "cell_type": "code",
   "execution_count": 3,
   "id": "bfd7088a-3e67-4827-820f-4c8dbafd717b",
   "metadata": {},
   "outputs": [
    {
     "data": {
      "text/plain": [
       "33.333333333333336"
      ]
     },
     "execution_count": 3,
     "metadata": {},
     "output_type": "execute_result"
    }
   ],
   "source": [
    "# This will convert 200 minutes to hours by dividing by 60\n",
    "200/6"
   ]
  },
  {
   "cell_type": "markdown",
   "id": "6660402c-aaf3-456c-b1de-88c99fe30ef9",
   "metadata": {},
   "source": [
    "## Author\n",
    "Daniel Contreras"
   ]
  },
  {
   "cell_type": "code",
   "execution_count": null,
   "id": "98f4ddba-0c95-4378-ba55-d0aa20c3be49",
   "metadata": {},
   "outputs": [],
   "source": []
  }
 ],
 "metadata": {
  "kernelspec": {
   "display_name": "Python 3 (ipykernel)",
   "language": "python",
   "name": "python3"
  },
  "language_info": {
   "codemirror_mode": {
    "name": "ipython",
    "version": 3
   },
   "file_extension": ".py",
   "mimetype": "text/x-python",
   "name": "python",
   "nbconvert_exporter": "python",
   "pygments_lexer": "ipython3",
   "version": "3.10.12"
  }
 },
 "nbformat": 4,
 "nbformat_minor": 5
}
